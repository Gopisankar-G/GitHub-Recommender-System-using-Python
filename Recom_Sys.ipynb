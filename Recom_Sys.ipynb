{
  "nbformat": 4,
  "nbformat_minor": 0,
  "metadata": {
    "colab": {
      "name": "Recom_Sys.ipynb",
      "provenance": []
    },
    "kernelspec": {
      "name": "python3",
      "display_name": "Python 3"
    },
    "language_info": {
      "name": "python"
    }
  },
  "cells": [
    {
      "cell_type": "code",
      "metadata": {
        "id": "DgSXQ-NqzLHt"
      },
      "source": [
        "import networkx as nx"
      ],
      "execution_count": 1,
      "outputs": []
    },
    {
      "cell_type": "code",
      "metadata": {
        "id": "fMAg7QHLzf8g"
      },
      "source": [
        "G=nx.Graph()"
      ],
      "execution_count": 2,
      "outputs": []
    },
    {
      "cell_type": "code",
      "metadata": {
        "id": "dXjJDTExzgGk"
      },
      "source": [
        "G=nx.read_adjlist(\"dataset.txt\")"
      ],
      "execution_count": 3,
      "outputs": []
    },
    {
      "cell_type": "code",
      "metadata": {
        "colab": {
          "base_uri": "https://localhost:8080/"
        },
        "id": "-Jzj7tTuzgJ2",
        "outputId": "b6e1d5e5-0140-42b7-f342-52c03a757186"
      },
      "source": [
        "type(G) "
      ],
      "execution_count": 4,
      "outputs": [
        {
          "output_type": "execute_result",
          "data": {
            "text/plain": [
              "networkx.classes.graph.Graph"
            ]
          },
          "metadata": {
            "tags": []
          },
          "execution_count": 4
        }
      ]
    },
    {
      "cell_type": "code",
      "metadata": {
        "colab": {
          "base_uri": "https://localhost:8080/"
        },
        "id": "7vRCPcNfzgM7",
        "outputId": "247c99bc-1214-454e-c8b8-877ccc9ccb39"
      },
      "source": [
        "len(G.nodes())"
      ],
      "execution_count": 5,
      "outputs": [
        {
          "output_type": "execute_result",
          "data": {
            "text/plain": [
              "22353"
            ]
          },
          "metadata": {
            "tags": []
          },
          "execution_count": 5
        }
      ]
    },
    {
      "cell_type": "code",
      "metadata": {
        "colab": {
          "base_uri": "https://localhost:8080/"
        },
        "id": "GlDUu52HzgUw",
        "outputId": "59c639dc-9ca6-4a23-d122-79f1ff9fa1c0"
      },
      "source": [
        "len(G.edges())"
      ],
      "execution_count": 6,
      "outputs": [
        {
          "output_type": "execute_result",
          "data": {
            "text/plain": [
              "20052"
            ]
          },
          "metadata": {
            "tags": []
          },
          "execution_count": 6
        }
      ]
    },
    {
      "cell_type": "code",
      "metadata": {
        "id": "KNNtkE8LzgbA"
      },
      "source": [
        "for n in G.nodes():\n",
        "  if(n[:1]=='p'):\n",
        "    G.nodes[n]['bipartite'] = 'projects'\n",
        "  else:\n",
        "    G.nodes[n]['bipartite'] = 'users'"
      ],
      "execution_count": 7,
      "outputs": []
    },
    {
      "cell_type": "code",
      "metadata": {
        "colab": {
          "base_uri": "https://localhost:8080/"
        },
        "id": "TuHq2RKbzgeG",
        "outputId": "986456e3-ab20-4842-8aba-c4e1ab4d5e2f"
      },
      "source": [
        "#To count number of users and projects in our dataset\n",
        "def get_nodes_from_partition(G,partition):\n",
        "    nodes = []\n",
        "    for n in G.nodes():\n",
        "        if G.nodes[n]['bipartite'] == partition:\n",
        "            #if the node belogs to given partition, then the node is added to nodes list\n",
        "            nodes.append(n)\n",
        "    return nodes\n",
        "\n",
        "print(len(get_nodes_from_partition(G, 'users')))\n",
        "print(len(get_nodes_from_partition(G, 'projects')))"
      ],
      "execution_count": 49,
      "outputs": [
        {
          "output_type": "stream",
          "text": [
            "10721\n",
            "11632\n"
          ],
          "name": "stdout"
        }
      ]
    },
    {
      "cell_type": "code",
      "metadata": {
        "id": "sO-_LExCzghR"
      },
      "source": [
        "def shared_partition_nodes(G, n1, n2):\n",
        "    #Checking whether passed nodes belong to users partition or not\n",
        "    assert G.nodes[n1]['bipartite'] =='users' \n",
        "    assert G.nodes[n2]['bipartite'] =='users'\n",
        "\n",
        "    # Getting neighbors of node1\n",
        "    nbr1 = G.neighbors(n1)\n",
        "    # Getting neighors of node2\n",
        "    nbr2 = G.neighbors(n2)\n",
        "\n",
        "    # TO get shared projects between users\n",
        "    common = set(nbr1).intersection(nbr2)\n",
        "    return common"
      ],
      "execution_count": 9,
      "outputs": []
    },
    {
      "cell_type": "code",
      "metadata": {
        "id": "ecHW7kMVzgkb"
      },
      "source": [
        "def user_similarity(G, u1, u2, proj_nodes):\n",
        "    #Checking whether passed nodes belong to users partition or not\n",
        "    assert G.nodes[u1]['bipartite'] == 'users'\n",
        "    assert G.nodes[u2]['bipartite'] == 'users'\n",
        "\n",
        "    # TO get shared projects between given users\n",
        "    shared_nodes = shared_partition_nodes(G, u1, u2)\n",
        "\n",
        "    # return similarity score\n",
        "    return len(shared_nodes) / len(proj_nodes)"
      ],
      "execution_count": 10,
      "outputs": []
    },
    {
      "cell_type": "code",
      "metadata": {
        "id": "H4zbCDDHzgn0"
      },
      "source": [
        "from collections import defaultdict\n",
        "\n",
        "def most_similar_users(G, user, user_nodes, proj_nodes):\n",
        "      #Checking whether passed nodes belong to users partition or not\n",
        "    assert G.nodes[user]['bipartite'] == 'users'\n",
        "\n",
        "    # Getting other user nodes\n",
        "    user_nodes = set(user_nodes)\n",
        "    user_nodes.remove(user)\n",
        "\n",
        "    # Creating dictionary \n",
        "    similarities = defaultdict(list)\n",
        "    for n in user_nodes:\n",
        "        similarity = user_similarity(G, user, n, proj_nodes)\n",
        "        similarities[similarity].append(n)\n",
        "\n",
        "    # computing maximum similarity\n",
        "    max_similarity = max(similarities.keys())\n",
        "    \n",
        "    #  returing maximum similarity users\n",
        "    return similarities[max_similarity]\n",
        "\n",
        "user_nodes = get_nodes_from_partition(G, 'users')\n",
        "project_nodes = get_nodes_from_partition(G, 'projects')"
      ],
      "execution_count": 11,
      "outputs": []
    },
    {
      "cell_type": "code",
      "metadata": {
        "id": "cIXSOJPUzgq6"
      },
      "source": [
        "def recommend_repositories(G, from_user, to_user):\n",
        "    # repositiores of user1\n",
        "    from_repos = set(G.neighbors(from_user))\n",
        "    #repositiories of user2\n",
        "    to_repos = set(G.neighbors(to_user))\n",
        "\n",
        "    print(\"Suggesting repositiories to user1\")\n",
        "    print(to_repos.difference(from_repos))\n",
        "    print(\"Suggesting repositiories to user2\")\n",
        "    print(from_repos.difference(to_repos))"
      ],
      "execution_count": 12,
      "outputs": []
    },
    {
      "cell_type": "code",
      "metadata": {
        "id": "MACNdOXXzguz"
      },
      "source": [
        "G1=nx.Graph()"
      ],
      "execution_count": 46,
      "outputs": []
    },
    {
      "cell_type": "code",
      "metadata": {
        "id": "sLHR8Mpg0SBD"
      },
      "source": [
        "def draw_graph(user1,user2):  \n",
        "  G1.add_node(user1)\n",
        "  G1.add_node(user2)\n",
        "  repos1=G.neighbors(user1)\n",
        "  repos2=G.neighbors(user2)\n",
        "  for n in repos1:\n",
        "     G1.add_node(n)\n",
        "     G1.add_edge(user1,n)\n",
        "  for n in repos2:\n",
        "     G1.add_node(n)\n",
        "     G1.add_edge(user2,n)\n",
        "  #nx.draw(G1,with_labels=True)\n",
        "  nx.draw(G1,node_color=\"red\",with_labels=True,node_size=1000) "
      ],
      "execution_count": 47,
      "outputs": []
    },
    {
      "cell_type": "code",
      "metadata": {
        "colab": {
          "base_uri": "https://localhost:8080/",
          "height": 490
        },
        "id": "i7vdd6780SJ8",
        "outputId": "a77ebe52-a8ce-4f35-a529-ab422c2dd161"
      },
      "source": [
        "user1='u21'\n",
        "user2='u2509'\n",
        "print(\"Number of Shared repositiories\")\n",
        "print(len(shared_partition_nodes(G,user1,user2)))\n",
        "print(\"Similarity Score\")\n",
        "project_nodes = get_nodes_from_partition(G, 'projects')\n",
        "similarity_score = user_similarity(G,user1,user2, project_nodes)\n",
        "print(similarity_score)\n",
        "print(\"Recommending repositories\")\n",
        "recommend_repositories(G,user1,user2)\n",
        "\n",
        "draw_graph(user1,user2)"
      ],
      "execution_count": 48,
      "outputs": [
        {
          "output_type": "stream",
          "text": [
            "Number of Shared repositiories\n",
            "2\n",
            "Similarity Score\n",
            "0.000171939477303989\n",
            "Recommending repositories\n",
            "Suggesting repositiories to user1\n",
            "{'p1099', 'p33205', 'p10000', 'p2692'}\n",
            "Suggesting repositiories to user2\n",
            "{'p12646', 'p557', 'p8462', 'p12244', 'p3320', 'p35264', 'p28114', 'p26797', 'p362', 'p11138', 'p3273', 'p31355', 'p2122', 'p79037', 'p2542', 'p1427', 'p31168', 'p7070', 'p5820', 'p28811', 'p64681', 'p18733', 'p5013', 'p29590', 'p2045', 'p17699', 'p16236', 'p4630', 'p37051', 'p5737', 'p22118', 'p744', 'p44164', 'p41253', 'p4930', 'p1496', 'p22130', 'p9717', 'p5395'}\n"
          ],
          "name": "stdout"
        },
        {
          "output_type": "display_data",
          "data": {
            "image/png": "[encoded data removed]",
            "text/plain": [
              "<Figure size 432x288 with 1 Axes>"
            ]
          },
          "metadata": {
            "tags": []
          }
        }
      ]
    },
    {
      "cell_type": "code",
      "metadata": {
        "id": "NtO2poco0SNY"
      },
      "source": [
        ""
      ],
      "execution_count": null,
      "outputs": []
    }
  ]
}